{
 "cells": [
  {
   "cell_type": "markdown",
   "metadata": {
    "id": "emjAQ_34SozP",
    "tags": []
   },
   "source": [
    "# Programming Assignment 1"
   ]
  },
  {
   "cell_type": "markdown",
   "metadata": {
    "id": "tKkKCHwsSozQ"
   },
   "source": [
    "In this programming assignment, you will implement a linear regression model and a logistic regression model.\n",
    "\n",
    "In Part 1, you have to implement a linear regression model to predict the price of a house based on various input features.\n",
    "\n",
    "In Part 2, you have to implement a logistic regression model to predict the species of a grain using various morphological features.\n",
    "\n",
    "The assignment zip file (ML_Assignment_1.zip) contains 4 datasets which will be used in this assignment.\n",
    "\n",
    "You have to write your code in this jupyter notebook and submit the solved jupyter notebook with the file name \\<Roll_No\\>_A1.ipynb for evaluation. You have to enter your code only in those cells which are marked as ```## CODE REQUIRED ##```, and you have to write your code only between ```### START CODE HERE ###``` and ```### END CODE HERE ###``` comments."
   ]
  },
  {
   "cell_type": "markdown",
   "metadata": {
    "id": "jHPf8pHpSozR"
   },
   "source": [
    "## Part 1: Linear Regression\n",
    "\n",
    "### Problem Statement  \n",
    "A real estate company is building a machine learning model to determine the price of a house. The model will take various information regarding a house as input features and predict the price per unit area. They decided to use the linear regression as the machine learning model. Your task is to help the company to build the model.\n",
    "Given various features of a house, you will create a linear regression model to predict the price of the house.\n",
    "\n",
    "### Data Description\n",
    "\n",
    "**For Even Roll Number Students:**\n",
    "\n",
    "Dataset Filename: Taiwan_House.csv\n",
    "\n",
    "Attributes Information:\n",
    "1. Transaction date\n",
    "2. House age\n",
    "3. Distance to the nearest MRT station\n",
    "4. Number of convenience stores\n",
    "5. Latitude\n",
    "6. Longitude\n",
    "\n",
    "Target variable: house price of unit area\n",
    "\n",
    "**For Odd Roll Number Students:**\n",
    "\n",
    "Dataset Filename: Boston_House.csv\n",
    "\n",
    "Attributes Information:\n",
    "1. CRIM: per capita crime rate by town\n",
    "2. ZN: proportion of residential land zoned for lots over 25,000 sq.ft.\n",
    "3. INDUS: proportion of non-­retail business acres per town\n",
    "4. CHAS: Charles River dummy variable (= 1 if tract bounds river; 0 otherwise)\n",
    "5. NOX: nitric oxides concentration (parts per 10 million)\n",
    "6. RM: average number of rooms per dwelling\n",
    "7. AGE: proportion of owner­occupied units built prior to 1940\n",
    "8. DIS: weighted distances to five Boston employment centres\n",
    "9. RAD: index of accessibility to radial highways\n",
    "10. TAX: full-­value property-­tax rate per $10,000\n",
    "\n",
    "11. PTRATIO: pupil-­teacher ratio by town\n",
    "12. B: 1000(Bk ­- 0.63)^2 where Bk is the proportion of blacks by town\n",
    "13. LSTAT: % lower status of the population\n",
    "\n",
    "Target Variable: MEDV: Median value of owner-­occupied homes in $1000's\n",
    "\n",
    "\n",
    "These are the following steps or functions that you have to complete to create and train the linear regression model:\n",
    "1. Reading the data\n",
    "2. Computing the loss function\n",
    "3. Computing the gradient of the loss\n",
    "4. Training the model using Batch Gradient Descent\n"
   ]
  },
  {
   "cell_type": "code",
   "execution_count": 27,
   "metadata": {
    "id": "rJDNL8y8SozR",
    "tags": []
   },
   "outputs": [],
   "source": [
    "import numpy as np\n",
    "import pandas as pd\n",
    "import matplotlib.pyplot as plt\n",
    "import copy\n",
    "import math\n",
    "import random"
   ]
  },
  {
   "cell_type": "markdown",
   "metadata": {
    "id": "S5ExYIXiSozS"
   },
   "source": [
    "### 1.1. Reading the data"
   ]
  },
  {
   "cell_type": "markdown",
   "metadata": {
    "id": "FgnxuEDkSozS"
   },
   "source": [
    "In the following function ```load_data```, you have to read the data from the file and store the data into a pandas dataframe. Then you have to create two numpy arrays $X$ and $y$ from the dataframe:\n",
    "\n",
    "+ $X$: Input data of the shape (number of samples, number of input features)\n",
    "+ $y$: Target variable of the shape (number of samples,)\n"
   ]
  },
  {
   "cell_type": "markdown",
   "metadata": {
    "id": "FgnxuEDkSozS"
   },
   "source": [
    "In the following function ```load_data```, you have to read the data from the file and store the data into a pandas dataframe. Then you have to create two numpy arrays $X$ and $y$ from the dataframe:\n",
    "\n",
    "+ $X$: Input data of the shape (number of samples, number of input features)\n",
    "+ $y$: Target variable of the shape (number of samples,)\n"
   ]
  },
  {
   "cell_type": "code",
   "execution_count": 28,
   "metadata": {
    "id": "DEal5SFmSozS",
    "tags": []
   },
   "outputs": [
    {
     "name": "stdout",
     "output_type": "stream",
     "text": [
      "Shape of X:  (414, 6) Shape of y:  (414,)\n"
     ]
    }
   ],
   "source": [
    "## CODE REQUIRED ##\n",
    "\n",
    "def load_data(filepath):\n",
    "    \"\"\"\n",
    "    This function loads the data into a pandas dataframe and coverts it into X and y numpy arrays\n",
    "\n",
    "    Args:\n",
    "        filepath: File path as a string\n",
    "    Returns:\n",
    "        X: Input data of the shape (# of samples, # of input features)\n",
    "        y: Target variable of the shape (# of sample,)\n",
    "    \"\"\"\n",
    "    df = pd.read_csv(filepath)\n",
    "    X = df.iloc[:, :-1].values  \n",
    "    y = df.iloc[:, -1].values    \n",
    "    return X, y\n",
    "\n",
    "\n",
    "filepath = None\n",
    "filepath = './Taiwan_House.csv'  \n",
    "X, y = load_data(filepath)\n",
    "print(\"Shape of X: \",X.shape, \"Shape of y: \",y.shape)"
   ]
  },
  {
   "cell_type": "markdown",
   "metadata": {
    "id": "se3Qrch5PoIO"
   },
   "source": [
    "We will not use all the features from ```X```.\n",
    "\n",
    "**For Even Roll Number Students:**\n",
    "Set the last two digits of your roll number as the random seed and pick a number ``r`` between 3 and 6 (both inclusive) randomly. Use the first ```r``` features of the numpy array ```X```.\n",
    "\n",
    "**For Odd Roll Number Students:**\n",
    "Set the last two digits of your roll number as the random seed and pick a number ``r`` between 9 and 13 (both inclusive) randomly. Use the first ```r``` features of the numpy array ```X```.\n"
   ]
  },
  {
   "cell_type": "code",
   "execution_count": 29,
   "metadata": {
    "id": "mnRd0p8LtRJ5"
   },
   "outputs": [
    {
     "name": "stdout",
     "output_type": "stream",
     "text": [
      "Shape of X:  (414, 3) Shape of y:  (414,)\n"
     ]
    }
   ],
   "source": [
    "## CODE REQUIRED ##\n",
    "\n",
    "def random_feature_selection(X):\n",
    "    \"\"\"\n",
    "    For Even Roll Number Students: Set the last two digits of your roll number as the random seed and pick a number r\n",
    "    between 3 and 6 randomly. Use the first ```r``` features of the numpy array X.\n",
    "    For Odd Roll Number Students: Set the last two digits of your roll number as the random seed and pick a number r\n",
    "    between 9 and 13 randomly. Use the first ```r``` features of the numpy array X.\n",
    "    Args:\n",
    "        X: Input data of the shape (# of samples, # of input features)\n",
    "    Returns:\n",
    "        X_new: New input data of the shape (# of samples, r) containg only the first r features from X\n",
    "    \"\"\"\n",
    "    X_new = None\n",
    "    ### START CODE HERE ###\n",
    "    np.random.seed(48)\n",
    "    r = np.random.randint(3, 7)\n",
    "    X_new = X[:, :r]\n",
    "    return X_new\n",
    "    ### END CODE HERE ###\n",
    "    \n",
    "X = random_feature_selection(X)\n",
    "print(\"Shape of X: \",X.shape, \"Shape of y: \",y.shape)"
   ]
  },
  {
   "cell_type": "markdown",
   "metadata": {
    "id": "4FAc8UixtqLS"
   },
   "source": [
    "We need to pre-process the data. We are using min-max scaler to scale the input data ($X$).\n",
    "\n",
    "After that, we split the data (```X``` and ```y```) into a training dataset (```X_train``` and ```y_train```) and test dataset (```X_test``` and ```y_test```)."
   ]
  },
  {
   "cell_type": "code",
   "execution_count": 30,
   "metadata": {
    "id": "LLmD1I3-SozT",
    "tags": []
   },
   "outputs": [
    {
     "name": "stdout",
     "output_type": "stream",
     "text": [
      "Shape of X_train:  (310, 3) Shape of y_train:  (310,)\n",
      "Shape of X_test:  (104, 3) Shape of y_test:  (104,)\n"
     ]
    }
   ],
   "source": [
    "## Data scaling and train-test split\n",
    "\n",
    "def train_test_split(X, y, test_size=0.25, random_state=None):\n",
    "    if random_state is not None:\n",
    "        np.random.seed(random_state)\n",
    "    indices = np.arange(X.shape[0])\n",
    "    np.random.shuffle(indices)\n",
    "\n",
    "    split_index = int(X.shape[0] * (1 - test_size))\n",
    "\n",
    "    train_indices = indices[:split_index]\n",
    "    test_indices = indices[split_index:]\n",
    "\n",
    "    X_train = X[train_indices]\n",
    "    X_test = X[test_indices]\n",
    "    y_train = y[train_indices]\n",
    "    y_test = y[test_indices]\n",
    "\n",
    "    return X_train, X_test, y_train, y_test\n",
    "\n",
    "def min_max_scaler(X, feature_range=(0, 1)):\n",
    "    X_min = np.min(X, axis=0)\n",
    "    X_max = np.max(X, axis=0)\n",
    "\n",
    "    X_scaled = (X-X_min)/(X_max-X_min)\n",
    "\n",
    "    return X_scaled\n",
    "\n",
    "\n",
    "X = min_max_scaler(X)\n",
    "X_train, X_test, y_train, y_test = train_test_split(X, y, test_size=0.25, random_state=42)\n",
    "print(\"Shape of X_train: \",X_train.shape, \"Shape of y_train: \",y_train.shape)\n",
    "print(\"Shape of X_test: \",X_test.shape, \"Shape of y_test: \",y_test.shape)"
   ]
  },
  {
   "cell_type": "markdown",
   "metadata": {
    "id": "xrFEUV2-SozU"
   },
   "source": [
    "### 1.2. Computing the Loss Function"
   ]
  },
  {
   "cell_type": "markdown",
   "metadata": {
    "id": "I1BC0TPCSozU"
   },
   "source": [
    "In linear regression, the model parameters are:\n",
    "\n",
    "+ $w$: Parameters of the linear regression model (excluding the bias) of the shape (1, number of features)\n",
    "\n",
    "+ $b$: Bias parameter (scalar) of the linear regression model\n",
    "\n",
    "Both $w$ and $b$ are numpy arrays.\n",
    "\n",
    "Given the model parameters $w$ and $b$, the prediction for an input sample $X^i$ is:\n",
    "$$h_{w,b}(X^i) = w \\cdot X^i + b$$\n",
    "where $X^i$ is the $i^{th}$ training sample with shape (number of features,1)\n",
    "\n",
    "For linear regression, you have to implement and compute Mean Squarred Error loss fucntion:\n",
    "$$ L_{w,b}(X) = \\sum_{i=1}^{m}(y^i - h_{w,b}(X^i))^2 $$\n",
    "where $y^i$ is the true target value for the $i^{th}$ sample and $h_{w,b}(X^i)$ is the predicted value for the $i^{th}$ sample using the parameters $w$ and $b$.\n",
    "\n",
    "$w$ is the list of parameters excluding the bias and $b$ is the bias term."
   ]
  },
  {
   "cell_type": "code",
   "execution_count": 31,
   "metadata": {
    "id": "t6GqZMlYSozV",
    "tags": []
   },
   "outputs": [],
   "source": [
    "## CODE REQUIRED ##\n",
    "\n",
    "def loss_function(X, y, w, b):\n",
    "    \"\"\"\n",
    "    Computes the cost function for linear regression.\n",
    "\n",
    "    Args:\n",
    "        X: Input data of the shape (# of training samples, # of input features)\n",
    "        y: Target variable of the shape (# of training sample,)\n",
    "        w: Parameters of the linear regression model (excluding the bias) of the shape (1, number of features)\n",
    "        b: Bias parameter (scalar) of the linear regression model\n",
    "\n",
    "    Returns\n",
    "        loss: The loss function value of using w and b as the parameters to fit the data points in X and y\n",
    "    \"\"\"\n",
    "    # number of training examples\n",
    "    m = X.shape[0]\n",
    "    ### START CODE HERE ###\n",
    "    y_matrix = y.reshape((m,1))\n",
    "    predictions = np.dot(X, w.T) + b\n",
    "    column_loss_vector = (predictions - y_matrix)\n",
    "    square_loss_vector = np.square(column_loss_vector)\n",
    "    loss = np.sum(square_loss_vector)/(2*m)\n",
    "    ### END CODE HERE ###\n",
    "    return loss\n"
   ]
  },
  {
   "cell_type": "markdown",
   "metadata": {
    "id": "l0h7jhxGSozV"
   },
   "source": [
    "### 1.3. Comptuing the Gradient of the Loss\n",
    "\n",
    "In this following function ```compute_gradient```, you have to compute the gradients $\\frac{\\partial L}{\\partial w}$ and $\\frac{\\partial L}{\\partial b}$ of the loss $L$ w.r.t. $w$ and $b$. More specifically, you have to iterate over every training example and compute the gradients of the loss for that training example. Finally, aggregate the gradient values for all the training examples and take the average. The gradients can be computed as:\n",
    "$$\\frac{\\partial L}{\\partial w} = \\frac{1}{m} \\sum_{i=1}^m (h_{w,b}(X^i)-y^i)X^i$$\n",
    "\n",
    "$$\\frac{\\partial L}{\\partial b} = \\frac{1}{m} \\sum_{i=1}^{m} (h_{w,b}(X^i)-y^i)$$\n"
   ]
  },
  {
   "cell_type": "code",
   "execution_count": 32,
   "metadata": {
    "id": "do-IiCTZSozV",
    "tags": []
   },
   "outputs": [],
   "source": [
    "## CODE REQUIRED ##\n",
    "\n",
    "def compute_gradient(X, y, w, b):\n",
    "    \"\"\"\n",
    "    Computes the gradient values\n",
    "    Args:\n",
    "       X: Input data of the shape (# of training samples, # of input features)\n",
    "       y: Target variable of the shape (# of training sample,)\n",
    "       w: Parameters of the linear regression model (excluding the bias) of the shape (1, number of features)\n",
    "       b: Bias parameter of the linear regression model of the shape (1,1) or a scaler\n",
    "    Returns:\n",
    "       dL_dw : The gradient of the cost w.r.t. the parameters w with shape same as w\n",
    "       dL_db : The gradient of the cost w.r.t. the parameter b with shape same as b\n",
    "    \"\"\"\n",
    "\n",
    "    # Number of training examples\n",
    "    m = X.shape[0]\n",
    "\n",
    "    dL_dw = None\n",
    "    dL_db = None\n",
    "\n",
    "    ### START CODE HERE ###\n",
    "    y_matrix = y.reshape((m,1))\n",
    "    predictions = np.dot(X, w.T) + b\n",
    "    errors = predictions - y_matrix\n",
    "    dL_dw = np.dot(errors.T, X) / m\n",
    "    dL_db = np.sum(errors) / m\n",
    "    ### END CODE HERE ###\n",
    "    return dL_dw, dL_db"
   ]
  },
  {
   "cell_type": "markdown",
   "metadata": {
    "id": "uYL1jWaZSozV"
   },
   "source": [
    "### 1.4. Training the Model using Batch Gradient Descent"
   ]
  },
  {
   "cell_type": "markdown",
   "metadata": {
    "id": "2vwyRzWqSozV"
   },
   "source": [
    "Finally, you have to implement the batch gradient descent algorithm to train and learn the parameters of the linear regression model. You have to use ```loss_function``` and ```compute_gradient``` functions that you have implemented earlier in this assignment.\n",
    "\n",
    "In this ```batch_gradient_descent``` function, you have to compute the gradient for the training samples and update the parameters $w$ and $b$ in every iteration:\n",
    "\n",
    "+ $w \\leftarrow w - \\alpha \\frac{\\partial L}{\\partial w}$\n",
    "\n",
    "+ $b \\leftarrow b - \\alpha \\frac{\\partial L}{\\partial b}$\n",
    "\n",
    "Additionally, you have compute the loss function values in every iteration and store it in the list variable ```loss_hist``` and print the loss value after every 100 iterations during the training process."
   ]
  },
  {
   "cell_type": "code",
   "execution_count": 33,
   "metadata": {
    "id": "UHKldb3hSozV",
    "tags": []
   },
   "outputs": [],
   "source": [
    "## CODE REQUIRED ##\n",
    "\n",
    "def batch_gradient_descent(X, y, w_initial, b_initial, alpha, num_iters):\n",
    "    \"\"\"\n",
    "    Batch gradient descent to learn the parameters (w and b) of the linear regression model and to print loss values\n",
    "    every 100 iterations\n",
    "\n",
    "    Args:\n",
    "        X: Input data of the shape (# of training samples, # of input features)\n",
    "        y: Target variable of the shape (# of training sample,)\n",
    "        w_initial: Initial parameters of the linear regression model (excluding the bias) of the shape (1, number of features)\n",
    "        b_initial: Initial bias parameter (scalar) of the linear regression model\n",
    "        alpha: Learning rate\n",
    "        num_iters: number of iterations\n",
    "    Returns\n",
    "        w: Updated values of parameters of the model after training\n",
    "        b: Updated bias of the model after training\n",
    "        loss_hist: List of loss values for every iteration\n",
    "    \"\"\"\n",
    "\n",
    "    # number of training examples\n",
    "    m = X.shape[0]\n",
    "\n",
    "    # to store loss values for every iteation as a list and print loss value after every 100 iterations\n",
    "    loss_hist = []\n",
    "\n",
    "    # Initialize parameters\n",
    "    w = copy.deepcopy(w_initial) ## deepcopy is used so that the updates do not change the initial variable values\n",
    "    b = b_initial\n",
    "\n",
    "    ### START CODE HERE ###\n",
    "    \n",
    "    for i in range(num_iters):\n",
    "        dL_dw, dL_db = compute_gradient(X, y, w, b)\n",
    "        w = w - alpha * dL_dw\n",
    "        b = b - alpha * dL_db\n",
    "        loss = loss_function(X, y, w, b)\n",
    "        loss_hist.append(loss)\n",
    "        if i % 100 == 0:\n",
    "            print(f\"Iteration {i}: Loss = {loss}\")\n",
    "           \n",
    "    ### END CODE HERE ###\n",
    "    return w, b, loss_hist"
   ]
  },
  {
   "cell_type": "markdown",
   "metadata": {
    "id": "y0h3DUMwNocp"
   },
   "source": [
    "Now you have to intialize the model parameters ($w$ and $b$) and learning rate (```alpha```). The learning rate ```alpha``` has to be randomly initialized between 0.0001 and 0.001. For the learning rate, you have to first set the last two digits of your roll number as the random seed using ```random.seed()``` function."
   ]
  },
  {
   "cell_type": "code",
   "execution_count": 34,
   "metadata": {
    "id": "Xd8QFReNDyGs"
   },
   "outputs": [],
   "source": [
    "## CODE REQUIRED ##\n",
    "\n",
    "## set the last two digits of your roll number as the random seed\n",
    "random_seed = 48\n",
    "np.random.seed(random_seed)\n",
    "\n",
    "def initialize_parameters():\n",
    "    \"\"\"\n",
    "    This function randomly initializes the model parameters (w and b) and the hyperparameter alpha\n",
    "    Initial w and b should be randomly sampled from a normal distribution with mean 0\n",
    "    alpha should be randomly initialized between 0.0001 and 0.001 by using last two digits of your roll number as the random seed\n",
    "    Args:\n",
    "        None\n",
    "    Returns:\n",
    "        initial_w: Initial parameters of the linear regression model (excluding the bias) of the shape (1, number of features)\n",
    "        initial_b: Initial bias parameter (scalar) of the linear regression model\n",
    "        alpha: Learning rate\n",
    "    \"\"\"\n",
    "\n",
    "    initial_w = None\n",
    "    initial_b = None\n",
    "    alpha = None\n",
    "\n",
    "    ### START CODE HERE ###\n",
    "    random_seed = 48\n",
    "    np.random.seed(random_seed)\n",
    "    num_features = np.random.randint(3,7)\n",
    "    initial_w = np.random.randn(1, num_features)\n",
    "    initial_b = np.random.randn()\n",
    "    alpha = random.uniform(0.0001, 0.001)\n",
    "    ### END CODE HERE ###\n",
    "\n",
    "    return initial_w,initial_b,alpha\n"
   ]
  },
  {
   "cell_type": "markdown",
   "metadata": {
    "id": "l7nt5VdORUEu"
   },
   "source": [
    "In the next cell, the model is trained using batch gradient descent algorithm for ```num_iters=10000``` iterations. You can change the number of iterations to check any improvements in the performance."
   ]
  },
  {
   "cell_type": "code",
   "execution_count": 35,
   "metadata": {
    "id": "9rAYubtASozV",
    "scrolled": true,
    "tags": []
   },
   "outputs": [
    {
     "name": "stdout",
     "output_type": "stream",
     "text": [
      "Iteration 0: Loss = 824.0557531467681\n",
      "Iteration 100: Loss = 695.7208903422538\n",
      "Iteration 200: Loss = 590.0965009188661\n",
      "Iteration 300: Loss = 503.15347898054245\n",
      "Iteration 400: Loss = 431.5775855860824\n",
      "Iteration 500: Loss = 372.64261265853725\n",
      "Iteration 600: Loss = 324.1060509355298\n",
      "Iteration 700: Loss = 284.1232691548526\n",
      "Iteration 800: Loss = 251.17692009788232\n",
      "Iteration 900: Loss = 224.01887184783715\n",
      "Iteration 1000: Loss = 201.62244196205765\n",
      "Iteration 1100: Loss = 183.14310655180122\n",
      "Iteration 1200: Loss = 167.88618059921814\n",
      "Iteration 1300: Loss = 155.28023263164246\n",
      "Iteration 1400: Loss = 144.85521632817358\n",
      "Iteration 1500: Loss = 136.22448215135023\n",
      "Iteration 1600: Loss = 129.06998058594814\n",
      "Iteration 1700: Loss = 123.1300907102943\n",
      "Iteration 1800: Loss = 118.18960829741862\n",
      "Iteration 1900: Loss = 114.0715102889511\n",
      "Iteration 2000: Loss = 110.63018046676115\n",
      "Iteration 2100: Loss = 107.7458370676312\n",
      "Iteration 2200: Loss = 105.319949084821\n",
      "Iteration 2300: Loss = 103.27146583760283\n",
      "Iteration 2400: Loss = 101.53371551375008\n",
      "Iteration 2500: Loss = 100.05185399167603\n",
      "Iteration 2600: Loss = 98.78076630821442\n",
      "Iteration 2700: Loss = 97.68334046086399\n",
      "Iteration 2800: Loss = 96.72904748262054\n",
      "Iteration 2900: Loss = 95.89277344862644\n",
      "Iteration 3000: Loss = 95.15385871534346\n",
      "Iteration 3100: Loss = 94.49530762377584\n",
      "Iteration 3200: Loss = 93.90313842196286\n",
      "Iteration 3300: Loss = 93.3658485281732\n",
      "Iteration 3400: Loss = 92.87397467034405\n",
      "Iteration 3500: Loss = 92.41973106823643\n",
      "Iteration 3600: Loss = 91.99671181148767\n",
      "Iteration 3700: Loss = 91.59964604352969\n",
      "Iteration 3800: Loss = 91.22419658223104\n",
      "Iteration 3900: Loss = 90.86679427045202\n",
      "Iteration 4000: Loss = 90.52450171709138\n",
      "Iteration 4100: Loss = 90.19490121398326\n",
      "Iteration 4200: Loss = 89.87600253921602\n",
      "Iteration 4300: Loss = 89.56616711850212\n",
      "Iteration 4400: Loss = 89.26404564225233\n",
      "Iteration 4500: Loss = 88.96852675096164\n",
      "Iteration 4600: Loss = 88.67869482509849\n",
      "Iteration 4700: Loss = 88.3937952641205\n",
      "Iteration 4800: Loss = 88.11320592585041\n",
      "Iteration 4900: Loss = 87.83641363320328\n",
      "Iteration 5000: Loss = 87.56299484918438\n",
      "Iteration 5100: Loss = 87.29259978059825\n",
      "Iteration 5200: Loss = 87.02493930212587\n",
      "Iteration 5300: Loss = 86.75977420036311\n",
      "Iteration 5400: Loss = 86.4969063261992\n",
      "Iteration 5500: Loss = 86.23617131694577\n",
      "Iteration 5600: Loss = 85.97743260970248\n",
      "Iteration 5700: Loss = 85.72057651685958\n",
      "Iteration 5800: Loss = 85.46550817528754\n",
      "Iteration 5900: Loss = 85.2121482141989\n",
      "Iteration 6000: Loss = 84.96043001417108\n",
      "Iteration 6100: Loss = 84.71029745244347\n",
      "Iteration 6200: Loss = 84.4617030482111\n",
      "Iteration 6300: Loss = 84.21460643694542\n",
      "Iteration 6400: Loss = 83.96897311536405\n",
      "Iteration 6500: Loss = 83.72477340903048\n",
      "Iteration 6600: Loss = 83.48198162308259\n",
      "Iteration 6700: Loss = 83.2405753435992\n",
      "Iteration 6800: Loss = 83.00053486287744\n",
      "Iteration 6900: Loss = 82.76184270663627\n",
      "Iteration 7000: Loss = 82.5244832450622\n",
      "Iteration 7100: Loss = 82.28844237282138\n",
      "Iteration 7200: Loss = 82.0537072458024\n",
      "Iteration 7300: Loss = 81.82026606452388\n",
      "Iteration 7400: Loss = 81.58810789592836\n",
      "Iteration 7500: Loss = 81.35722252675123\n",
      "Iteration 7600: Loss = 81.12760034286347\n",
      "Iteration 7700: Loss = 80.8992322299794\n",
      "Iteration 7800: Loss = 80.67210949193954\n",
      "Iteration 7900: Loss = 80.44622378345004\n",
      "Iteration 8000: Loss = 80.2215670547145\n",
      "Iteration 8100: Loss = 79.99813150584798\n",
      "Iteration 8200: Loss = 79.77590954933804\n",
      "Iteration 8300: Loss = 79.55489377912534\n",
      "Iteration 8400: Loss = 79.33507694512957\n",
      "Iteration 8500: Loss = 79.11645193225462\n",
      "Iteration 8600: Loss = 78.89901174307889\n",
      "Iteration 8700: Loss = 78.68274948357663\n",
      "Iteration 8800: Loss = 78.46765835133345\n",
      "Iteration 8900: Loss = 78.25373162581302\n",
      "Iteration 9000: Loss = 78.04096266031176\n",
      "Iteration 9100: Loss = 77.82934487530207\n",
      "Iteration 9200: Loss = 77.61887175291801\n",
      "Iteration 9300: Loss = 77.40953683238094\n",
      "Iteration 9400: Loss = 77.20133370619874\n",
      "Iteration 9500: Loss = 76.99425601700139\n",
      "Iteration 9600: Loss = 76.7882974549003\n",
      "Iteration 9700: Loss = 76.58345175527882\n",
      "Iteration 9800: Loss = 76.3797126969375\n",
      "Iteration 9900: Loss = 76.17707410053154\n",
      "Updated w:  [[10.12924456  4.90173388 -6.93594736]]\n",
      "Updated b:  31.082566706668086\n"
     ]
    }
   ],
   "source": [
    "# initialize the parameters and hyperparameter\n",
    "initial_w, initial_b, alpha = initialize_parameters()\n",
    "\n",
    "# number of iterations\n",
    "num_iters = 10000\n",
    "\n",
    "w,b,loss_hist = batch_gradient_descent(X_train,y_train,initial_w,initial_b,alpha,num_iters)\n",
    "print(\"Updated w: \",w)\n",
    "print(\"Updated b: \",b)"
   ]
  },
  {
   "cell_type": "markdown",
   "metadata": {
    "id": "sluek2LkSozW"
   },
   "source": [
    "### 1.5. Final Train Error and Test Error"
   ]
  },
  {
   "cell_type": "markdown",
   "metadata": {
    "id": "EH9oHC10fAlV"
   },
   "source": [
    "After the linear regression model is trained, we will compute the final train error and test error for the trained model."
   ]
  },
  {
   "cell_type": "code",
   "execution_count": 36,
   "metadata": {
    "id": "UIXb7sSvSozW",
    "tags": []
   },
   "outputs": [
    {
     "name": "stdout",
     "output_type": "stream",
     "text": [
      "Train Error:  75.97753987314155 , Test Error:  117.90499098083549\n"
     ]
    }
   ],
   "source": [
    "## Train and Test error computation\n",
    "\n",
    "train_error = loss_function(X_train,y_train,w,b)\n",
    "test_error = loss_function(X_test,y_test,w,b)\n",
    "print(\"Train Error: \",train_error, \", Test Error: \",test_error)"
   ]
  },
  {
   "cell_type": "markdown",
   "metadata": {
    "id": "eximd12PbAgC"
   },
   "source": [
    "### 1.6. Plotting the loss function"
   ]
  },
  {
   "cell_type": "markdown",
   "metadata": {
    "id": "meDwLCCIfOBo"
   },
   "source": [
    "We will plot the loss function values for every training iteration. If the model is trained properly, you will see that the loss function reduces as the training progesses and it converges at some point."
   ]
  },
  {
   "cell_type": "code",
   "execution_count": 37,
   "metadata": {
    "id": "DW4bue0oSozW"
   },
   "outputs": [
    {
     "data": {
      "image/png": "[encoded data removed]",
      "text/plain": [
       "<Figure size 640x480 with 1 Axes>"
      ]
     },
     "metadata": {},
     "output_type": "display_data"
    }
   ],
   "source": [
    "# PLotting the loss values for every training iterations\n",
    "\n",
    "loss_plot = [loss_hist[i] for i in range(len(loss_hist))]\n",
    "plt.xlabel(\"Iterations\")\n",
    "plt.ylabel(\"Loss function\")\n",
    "plt.plot(loss_plot)\n",
    "plt.show()"
   ]
  },
  {
   "cell_type": "markdown",
   "metadata": {
    "id": "BAVgq4HWCmDX"
   },
   "source": [
    "### 1.7 Experimenting with different values of the Hyperparemeters\n",
    "\n",
    "Previously, we randomly sampled the learning rate and the number of features to train the model. Now, you have to manually choose the number of features and the learning rate. Then, you have to train the model again on the manually choosen hyperparameters (number of features and learning rate). In the next cell, you have to manually choose the hyperparameters and write the code to train the model.\n",
    "\n",
    "After the model is trained, you have to compare the performance of the model with random chosen hyperparameters and manually chosen hyperparameters."
   ]
  },
  {
   "cell_type": "code",
   "execution_count": 38,
   "metadata": {
    "id": "K2QuEbE1Clxq"
   },
   "outputs": [
    {
     "name": "stdout",
     "output_type": "stream",
     "text": [
      "Shape of X_train:  (310, 6) Shape of y_train:  (310,)\n",
      "Shape of X_test:  (104, 6) Shape of y_test:  (104,)\n",
      "Iteration 0: Loss = 815.1779999398382\n",
      "Iteration 100: Loss = 539.3475482953806\n",
      "Iteration 200: Loss = 364.105345551633\n",
      "Iteration 300: Loss = 252.71042098417718\n",
      "Iteration 400: Loss = 181.84297838919358\n",
      "Iteration 500: Loss = 136.70172859082547\n",
      "Iteration 600: Loss = 107.89213487481062\n",
      "Iteration 700: Loss = 89.45136235620211\n",
      "Iteration 800: Loss = 77.59470063326569\n",
      "Iteration 900: Loss = 69.91991016918409\n",
      "Iteration 1000: Loss = 64.90221580465001\n",
      "Iteration 1100: Loss = 61.5737758712184\n",
      "Iteration 1200: Loss = 59.3202391535203\n",
      "Iteration 1300: Loss = 57.751618261513116\n",
      "Iteration 1400: Loss = 56.62033210590295\n",
      "Iteration 1500: Loss = 55.76918690675322\n",
      "Iteration 1600: Loss = 55.09835938186208\n",
      "Iteration 1700: Loss = 54.54444074116399\n",
      "Iteration 1800: Loss = 54.06713575265788\n",
      "Iteration 1900: Loss = 53.640820531877374\n",
      "Iteration 2000: Loss = 53.24918419487196\n",
      "Iteration 2100: Loss = 52.881827859630064\n",
      "Iteration 2200: Loss = 52.53210598958702\n",
      "Iteration 2300: Loss = 52.19575626008159\n",
      "Iteration 2400: Loss = 51.870029905831494\n",
      "Iteration 2500: Loss = 51.553139727356864\n",
      "Iteration 2600: Loss = 51.24390971799884\n",
      "Iteration 2700: Loss = 50.94155266123732\n",
      "Iteration 2800: Loss = 50.645528951982634\n",
      "Iteration 2900: Loss = 50.355456971639796\n",
      "Iteration 3000: Loss = 50.07105618506954\n",
      "Iteration 3100: Loss = 49.79211100672473\n",
      "Iteration 3200: Loss = 49.518447849485526\n",
      "Iteration 3300: Loss = 49.24992054099949\n",
      "Iteration 3400: Loss = 48.98640105128415\n",
      "Iteration 3500: Loss = 48.727773591768134\n",
      "Iteration 3600: Loss = 48.47393085454407\n",
      "Iteration 3700: Loss = 48.22477161035883\n",
      "Iteration 3800: Loss = 47.98019916932654\n",
      "Iteration 3900: Loss = 47.74012038953438\n",
      "Iteration 4000: Loss = 47.50444503370885\n",
      "Iteration 4100: Loss = 47.273085347101635\n",
      "Iteration 4200: Loss = 47.04595577608128\n",
      "Iteration 4300: Loss = 46.8229727763218\n",
      "Iteration 4400: Loss = 46.60405467814279\n",
      "Iteration 4500: Loss = 46.38912158840143\n",
      "Iteration 4600: Loss = 46.178095315855835\n",
      "Iteration 4700: Loss = 45.970899311691284\n",
      "Iteration 4800: Loss = 45.76745861993036\n",
      "Iteration 4900: Loss = 45.567699834370664\n",
      "Iteration 5000: Loss = 45.3715510599141\n",
      "Iteration 5100: Loss = 45.1789418769271\n",
      "Iteration 5200: Loss = 44.98980330776225\n",
      "Iteration 5300: Loss = 44.80406778488475\n",
      "Iteration 5400: Loss = 44.62166912024523\n",
      "Iteration 5500: Loss = 44.44254247566633\n",
      "Iteration 5600: Loss = 44.26662433409083\n",
      "Iteration 5700: Loss = 44.09385247158972\n",
      "Iteration 5800: Loss = 43.92416593006131\n",
      "Iteration 5900: Loss = 43.75750499057289\n",
      "Iteration 6000: Loss = 43.59381114731022\n",
      "Iteration 6100: Loss = 43.43302708210757\n",
      "Iteration 6200: Loss = 43.275096639537956\n",
      "Iteration 6300: Loss = 43.119964802545425\n",
      "Iteration 6400: Loss = 42.9675776686045\n",
      "Iteration 6500: Loss = 42.81788242639307\n",
      "Iteration 6600: Loss = 42.67082733296628\n",
      "Iteration 6700: Loss = 42.52636169141966\n",
      "Iteration 6800: Loss = 42.3844358290302\n",
      "Iteration 6900: Loss = 42.24500107586495\n",
      "Iteration 7000: Loss = 42.108009743846594\n",
      "Iteration 7100: Loss = 41.97341510626593\n",
      "Iteration 7200: Loss = 41.841171377731655\n",
      "Iteration 7300: Loss = 41.711233694547744\n",
      "Iteration 7400: Loss = 41.583558095509396\n",
      "Iteration 7500: Loss = 41.458101503108104\n",
      "Iteration 7600: Loss = 41.334821705137344\n",
      "Iteration 7700: Loss = 41.21367733668994\n",
      "Iteration 7800: Loss = 41.094627862538886\n",
      "Iteration 7900: Loss = 40.97763355989298\n",
      "Iteration 8000: Loss = 40.86265550151965\n",
      "Iteration 8100: Loss = 40.7496555392265\n",
      "Iteration 8200: Loss = 40.63859628769425\n",
      "Iteration 8300: Loss = 40.52944110865329\n",
      "Iteration 8400: Loss = 40.422154095396465\n",
      "Iteration 8500: Loss = 40.31670005762078\n",
      "Iteration 8600: Loss = 40.21304450659103\n",
      "Iteration 8700: Loss = 40.11115364061836\n",
      "Iteration 8800: Loss = 40.0109943308469\n",
      "Iteration 8900: Loss = 39.9125341073419\n",
      "Iteration 9000: Loss = 39.81574114547293\n",
      "Iteration 9100: Loss = 39.72058425258558\n",
      "Iteration 9200: Loss = 39.627032854955644\n",
      "Iteration 9300: Loss = 39.53505698501965\n",
      "Iteration 9400: Loss = 39.44462726887564\n",
      "Iteration 9500: Loss = 39.355714914048654\n",
      "Iteration 9600: Loss = 39.26829169751489\n",
      "Iteration 9700: Loss = 39.18232995397931\n",
      "Iteration 9800: Loss = 39.09780256440099\n",
      "Iteration 9900: Loss = 39.01468294476094\n",
      "Updated w_manual [[ 4.77392387 -1.68155744 -5.81773304 14.0048804  10.90386058 14.84638141]]\n",
      "Updated b_manual 16.831320009127936\n",
      "Train Error manual:  38.933755659002905 , Test Error manual:  71.89839515088146\n",
      "Comparision Statement:When I took all the feautures given error was reduced\n"
     ]
    }
   ],
   "source": [
    "## CODE REQUIRED ##\n",
    "\n",
    "\"\"\"\n",
    "Manually choose the hyperparameters (learning rate and number of features) and train the model.\n",
    "Then compare the performance with random chosen hyperparameters and manually chosen hyperparameters.\n",
    "\"\"\"\n",
    "\n",
    "### START CODE HERE ###\n",
    "r = 6   \n",
    "alpha_manual = 0.001\n",
    "num_iters = 10000\n",
    "\n",
    "filepath = './Taiwan_House.csv'\n",
    "X,y = load_data(filepath)\n",
    "X_new = X[:, :r]\n",
    "X_new = min_max_scaler(X_new)\n",
    "X_train_manual, X_test_manual, y_train_manual, y_test_manual = train_test_split(X_new, y, test_size=0.25, random_state=42)\n",
    "print(\"Shape of X_train: \",X_train_manual.shape, \"Shape of y_train: \",y_train_manual.shape)\n",
    "print(\"Shape of X_test: \",X_test_manual.shape, \"Shape of y_test: \",y_test_manual.shape)\n",
    "initial_w = np.random.randn(1, r)\n",
    "initial_b = np.random.randn()\n",
    "w_manual,b_manual,loss_hist_manual = batch_gradient_descent(X_train_manual,y_train_manual,initial_w,initial_b,alpha_manual,num_iters)\n",
    "print(\"Updated w_manual\",w_manual)\n",
    "print(\"Updated b_manual\",b_manual)\n",
    "train_error_manual = loss_function(X_train_manual,y_train_manual,w_manual,b_manual)\n",
    "test_error_manual = loss_function(X_test_manual,y_test_manual,w_manual,b_manual)\n",
    "print(\"Train Error manual: \",train_error_manual, \", Test Error manual: \",test_error_manual)\n",
    "print(\"Comparision Statement:When I took all the feautures given error was reduced\")\n",
    "### END CODE HERE ###"
   ]
  },
  {
   "cell_type": "markdown",
   "metadata": {
    "id": "XZ0CviUnZui0"
   },
   "source": [
    "## Part 2: Logistic Regression\n",
    "\n",
    "### Problem Statement\n",
    "A Food grain industry requires an efficient classification system to help in sorting food grain species. You have to develop a Logistic Regression model for this purpose.\n",
    " Given various features of a rice grain such as area, perimeter, axis lengths etc. as input features, the task is to build a logistic regression model to predict the species of the food grain.\n",
    "\n",
    "### Dataset Description\n",
    "\n",
    "**For Even Roll Number Students**\n",
    "\n",
    "Dataset Filename: Rice_Classification.csv\n",
    "\n",
    "Attribute Information:\n",
    "+ Area: Returns the number of pixels within the boundaries of the rice grain.\n",
    "+ Perimeter: Calculates the circumference by calculating the distance between pixels around the boundaries of the rice grain.\n",
    "+ Major Axis Length: The longest line that can be drawn on the rice grain, i.e. the main axis distance, gives.\n",
    "+ Minor Axis Length: The shortest line that can be drawn on the rice grain, i.e. the small axis distance, gives.\n",
    "+ Eccentricity: It measures how round the ellipse, which has the same moments as the rice grain, is.\n",
    "+ Convex Area: Returns the pixel count of the smallest convex shell of the region formed by the rice grain.\n",
    "+ Extent: Returns the ratio of the region formed by the rice grain to the bounding box pixels.\n",
    "\n",
    "Target Variable: Class: Cammeo and Osmancik\n",
    "\n",
    "**For Odd Roll Number Students**\n",
    "\n",
    "Dataset Filename: Pumpkin_Seeds_Dataset.csv\n",
    "\n",
    "Attribute Information:\n",
    "\n",
    "+ Area: Represents the number of pixels within the boundaries of the pumpkin seed.\n",
    "\n",
    "+ Perimeter: Calculates the circumference by measuring the distance between pixels around the boundary of the pumpkin seed.\n",
    "\n",
    "+ Major Axis Length: The longest line that can be drawn on the pumpkin seed, representing the main axis distance.\n",
    "\n",
    "+ Minor Axis Length: The shortest line that can be drawn on the pumpkin seed, representing the minor axis distance.\n",
    "\n",
    "+ Convex Area: Returns the pixel count of the smallest convex shell that can contain the pumpkin seed.\n",
    "\n",
    "+ Equivalent Diameter: Diameter of a circle with the same area as the pumpkin seed.\n",
    "\n",
    "+ Eccentricity: This measures how round the ellipse, which has the same moments as the pumpkin seed has.\n",
    "\n",
    "+ Solidity: This is the ratio of the area of the pumpkin seed to the area of its convex hull. It measures the extent to which the shape is convex.\n",
    "\n",
    "+ Extent: Returns the ratio of the area of the pumpkin seed to the area of its bounding box.\n",
    "\n",
    "+ Roundness: Measure of how closely the shape of the pumpkin seed approaches that of a circle.\n",
    "\n",
    "+ Aspect Ratio: Ratio of the major axis length to the minor axis length.\n",
    "\n",
    "+ Compactness: Measure of the shape's compactness, which is the shape's deviation from being a perfect circle. In essence, compactness quantifies how efficiently an object's area is packed within its perimeter.\n",
    "\n",
    "Target Variable: Class: Çerçevelik and Ürgüp Sivrisi\n",
    "\n",
    "\n",
    "\n",
    "These are the following steps or functions that you have to complete to create and train the linear regression model:\n",
    "1. Reading the data\n",
    "2. Creating the sigmoid function\n",
    "2. Computing the loss function\n",
    "3. Computing the gradient of the loss\n",
    "4. Training the model using Batch Gradient Descent"
   ]
  },
  {
   "cell_type": "code",
   "execution_count": 39,
   "metadata": {
    "id": "T27XOBZrRZ4M"
   },
   "outputs": [],
   "source": [
    "import numpy as np\n",
    "import pandas as pd\n",
    "import matplotlib.pyplot as plt\n",
    "from scipy.special import logsumexp\n",
    "import copy\n",
    "import math"
   ]
  },
  {
   "cell_type": "markdown",
   "metadata": {
    "id": "G3luUk4L0WO_"
   },
   "source": [
    "### 2.1. Reading the data\n",
    "\n",
    "In the function ```load_data```, you have to read data from the file, store it in a dataframe and split the data from the dataframe into two numpy arrays X and y.\n",
    "\n",
    "**X** : data of the input features\n",
    "\n",
    "**y**  : data of the class labels\n",
    "\n",
    "The class labels in **y** should be replaced with '0' and '1', for corresponding classes."
   ]
  },
  {
   "cell_type": "code",
   "execution_count": 40,
   "metadata": {
    "id": "7-RV0JgEZi1h"
   },
   "outputs": [
    {
     "name": "stdout",
     "output_type": "stream",
     "text": [
      "Shape of X:  (3810, 7) Shape of y:  (3810,)\n"
     ]
    }
   ],
   "source": [
    "## CODE REQUIRED ##\n",
    "\n",
    "def load_data(filepath):\n",
    "    \"\"\"\n",
    "    This function loads the data into a pandas dataframe and converts it into X and y numpy arrays\n",
    "    y should be a binary numpy array with values 0 and 1, for 2 different classes\n",
    "    Args:\n",
    "        filepath: File path as a string\n",
    "    Returns:\n",
    "        X: Input data of the shape (# of samples, # of input features)\n",
    "        y: Target variable of the shape (# of sample,) with values 0 and 1, for 2 different classes\n",
    "    \"\"\"\n",
    "\n",
    "    ### START CODE HERE ###\n",
    "    df = pd.read_csv(filepath)\n",
    "    df['Class'] = df['Class'].map({'Cammeo': 1, 'Osmancik': 0})\n",
    "    X = df.iloc[:, :-1].values  \n",
    "    y = df['Class'].values     \n",
    "    ### END CODE HERE ###\n",
    "    return X, y\n",
    "\n",
    "\n",
    "filepath = None\n",
    "### START CODE HERE ###\n",
    "## set the file path\n",
    "filepath = './Rice_Classification.csv'\n",
    "### END CODE HERE ###\n",
    "X, y = load_data(filepath)\n",
    "print(\"Shape of X: \",X.shape, \"Shape of y: \",y.shape)"
   ]
  },
  {
   "cell_type": "markdown",
   "metadata": {
    "id": "sLGPG1YU-C47"
   },
   "source": [
    "We will not use all the features from X.\n",
    "\n",
    "For Even Roll Number Students: Set the last two digits of your roll number as the random seed and pick a number r between 4 and 7 (both inclusive) randomly. Use the first r features of the numpy array X.\n",
    "\n",
    "For Odd Roll Number Students: Set the last two digits of your roll number as the random seed and pick a number r between 8 and 12 (both inclusive) randomly. Use the first r features of the numpy array X."
   ]
  },
  {
   "cell_type": "code",
   "execution_count": 41,
   "metadata": {
    "id": "JNsDb2Ae94s6"
   },
   "outputs": [
    {
     "name": "stdout",
     "output_type": "stream",
     "text": [
      "Shape of X:  (3810, 4) Shape of y:  (3810,)\n"
     ]
    }
   ],
   "source": [
    "## CODE REQUIRED ##\n",
    "\n",
    "def random_feature_selection(X):\n",
    "    \"\"\"\n",
    "    Args:\n",
    "        X: Input data of the shape (# of samples, # of input features)\n",
    "    Returns:\n",
    "        X_new: New input data of the shape (# of samples, r) containg only the first r features from X\n",
    "    \"\"\"\n",
    "    X_new = None\n",
    "    ### START CODE HERE ###\n",
    "    np.random.seed(48)\n",
    "    r = np.random.randint(4, 7)\n",
    "    X_new = X[:, :r]\n",
    "    return X_new\n",
    "    ### END CODE HERE ###\n",
    "\n",
    "X = random_feature_selection(X)\n",
    "print(\"Shape of X: \",X.shape, \"Shape of y: \",y.shape)"
   ]
  },
  {
   "cell_type": "markdown",
   "metadata": {
    "id": "t4u-qBe34wC9"
   },
   "source": [
    "We need to pre-process the data. We are using min-max scaler to scale the input data ($X$).\n",
    "\n",
    "After that, we split the data (```X``` and ```y```) into a training dataset (```X_train``` and ```y_train```) and test dataset (```X_test``` and ```y_test```)"
   ]
  },
  {
   "cell_type": "code",
   "execution_count": 42,
   "metadata": {
    "id": "YTO4etePa0i1"
   },
   "outputs": [
    {
     "name": "stdout",
     "output_type": "stream",
     "text": [
      "Shape of X_train:  (2857, 4) Shape of y_train:  (2857,)\n",
      "Shape of X_test:  (953, 4) Shape of y_test:  (953,)\n"
     ]
    }
   ],
   "source": [
    "## Data scaling and train-test split\n",
    "\n",
    "def train_test_split(X, y, test_size=0.25, random_state=None):\n",
    "    if random_state is not None:\n",
    "        np.random.seed(random_state)\n",
    "    indices = np.arange(X.shape[0])\n",
    "    np.random.shuffle(indices)\n",
    "\n",
    "    split_index = int(X.shape[0] * (1 - test_size))\n",
    "\n",
    "    train_indices = indices[:split_index]\n",
    "    test_indices = indices[split_index:]\n",
    "\n",
    "    X_train = X[train_indices]\n",
    "    X_test = X[test_indices]\n",
    "    y_train = y[train_indices]\n",
    "    y_test = y[test_indices]\n",
    "\n",
    "    return X_train, X_test, y_train, y_test\n",
    "\n",
    "def min_max_scaler(X, feature_range=(0, 1)):\n",
    "    X_min = np.min(X, axis=0)\n",
    "    X_max = np.max(X, axis=0)\n",
    "\n",
    "    X_scaled = (X-X_min)/(X_max-X_min)\n",
    "\n",
    "    return X_scaled\n",
    "\n",
    "#Feature Normalisation\n",
    "X = min_max_scaler(X)\n",
    "X_train, X_test, y_train, y_test = train_test_split(X, y, test_size=0.25, random_state=42)\n",
    "print(\"Shape of X_train: \",X_train.shape, \"Shape of y_train: \",y_train.shape)\n",
    "print(\"Shape of X_test: \",X_test.shape, \"Shape of y_test: \",y_test.shape)"
   ]
  },
  {
   "cell_type": "markdown",
   "metadata": {
    "id": "K8SbmjD945Ra"
   },
   "source": [
    "### 2.2. Creating the Sigmoid Function\n",
    "Recall that for logistic regression, the model is represented as\n",
    "\n",
    "$$ f_{\\mathbf{w},b}(x) = g(\\mathbf{w}\\cdot \\mathbf{x} + b)$$\n",
    "where function $g$ is the sigmoid function. The sigmoid function is defined as:\n",
    "\n",
    "$$g(z) = \\frac{1}{1+e^{-z}}$$\n",
    "\n",
    "\n",
    "The function below returns the value of the sigmoid function for an input numpy array z. If the numpy array 'z' stores multiple numbers, we'd like to apply the sigmoid function to each value in the input array"
   ]
  },
  {
   "cell_type": "code",
   "execution_count": 43,
   "metadata": {
    "id": "G44B1vITbBpE"
   },
   "outputs": [],
   "source": [
    "## CODE REQUIRED ##\n",
    "\n",
    "def sigmoid(z):\n",
    "    \"\"\"\n",
    "    Compute the sigmoid of z\n",
    "\n",
    "    Args:\n",
    "        z: A scalar or numpy array of any size.\n",
    "\n",
    "    Returns:\n",
    "        g: sigmoid(z)\n",
    "    \"\"\"\n",
    "    g = None\n",
    "    z = z.astype(float)\n",
    "    ### START CODE HERE ###\n",
    "    g = 1 / (1 + np.exp(-z))\n",
    "    ### END SOLUTION ###\n",
    "\n",
    "    return g"
   ]
  },
  {
   "cell_type": "markdown",
   "metadata": {
    "id": "kV-Ygf1R8HMl"
   },
   "source": [
    "### 2.3. Computing the loss Function\n",
    "\n",
    "Recall that for logistic regression, the cost function is of the form\n",
    "\n",
    "$$ J(\\mathbf{w},b) = \\frac{1}{m}\\sum_{i=0}^{m-1} \\left[ loss(f_{\\mathbf{w},b}(\\mathbf{x}^{(i)}), y^{(i)}) \\right] \\tag{1}$$\n",
    "\n",
    "where\n",
    "* m is the number of training examples in the dataset\n",
    "\n",
    "\n",
    "* $loss(f_{\\mathbf{w},b}(\\mathbf{x}^{(i)}), y^{(i)})$ is the cost for a single data point, which is -\n",
    "\n",
    "    $$loss(f_{\\mathbf{w},b}(\\mathbf{x}^{(i)}), y^{(i)}) = (-y^{(i)} \\log\\left(f_{\\mathbf{w},b}\\left( \\mathbf{x}^{(i)} \\right) \\right) - \\left( 1 - y^{(i)}\\right) \\log \\left( 1 - f_{\\mathbf{w},b}\\left( \\mathbf{x}^{(i)} \\right) \\right) \\tag{2}$$\n",
    "    \n",
    "    \n",
    "*  $f_{\\mathbf{w},b}(\\mathbf{x}^{(i)})$ is the model's prediction, while $y^{(i)}$, which is the actual label\n",
    "\n",
    "*  $f_{\\mathbf{w},b}(\\mathbf{x}^{(i)}) = g(\\mathbf{w} \\cdot \\mathbf{x^{(i)}} + b)$ where function $g$ is the sigmoid function.\n",
    "\n",
    "Please complete the function loss_function that takes\n",
    "\n",
    " **X**  (input features)\n",
    "\n",
    " **y**  (class labels)\n",
    "\n",
    " **w**  (Parameters of the logistic regression model, (excluding the bias), a numpy array of the shape(1, number of features))\n",
    "\n",
    " **b**  (Bias value of the logistic regression model)\n",
    "\n",
    " You can use the Sigmoid function that you implemented above."
   ]
  },
  {
   "cell_type": "code",
   "execution_count": 44,
   "metadata": {
    "id": "h9RVguhHbEVk"
   },
   "outputs": [],
   "source": [
    "## CODE REQUIRED ##\n",
    "\n",
    "def loss_function(X, y, w, b):\n",
    "    \"\"\"\n",
    "    Computes the loss function for all the training examples\n",
    "    Args:\n",
    "            X: Input data of the shape (# of training samples, # of input features)\n",
    "            y: Target variable of the shape (# of training sample,)\n",
    "            w: Parameters of the logistic regression model (excluding the bias) of the shape (1, number of features)\n",
    "            b: Bias parameter (scalar) of the logistic regression model\n",
    "    \n",
    "      Returns:\n",
    "            total_cost: The loss function value of using w and b as the parameters to fit the data points in X and y\n",
    "    \n",
    "    \"\"\"\n",
    "    m, n = X.shape\n",
    "    total_cost = 0\n",
    "    ### START CODE HERE ###\n",
    "    y_matrix = y.reshape((m,1))\n",
    "    z = np.dot(X, w.T) + b\n",
    "    f_x = sigmoid(z)\n",
    "    loss = -(np.dot(y_matrix.T, np.log(f_x)) + np.dot((1 - y_matrix).T, np.log(1 - f_x)))\n",
    "    total_cost_matrix = loss / m\n",
    "    total_cost = total_cost_matrix.item()\n",
    "    ### END CODE HERE ###\n",
    "    \n",
    "    return total_cost"
   ]
  },
  {
   "cell_type": "markdown",
   "metadata": {
    "id": "S9YmUPnsASYE"
   },
   "source": [
    "### 2.4. Computing the Gradient of the Loss\n",
    "\n",
    "Recall that the gradient descent algorithm is:\n",
    "\n",
    "$$\\begin{align*}& \\text{repeat until convergence:} \\; \\lbrace \\newline \\; & b := b -  \\alpha \\frac{\\partial J(\\mathbf{w},b)}{\\partial b} \\newline       \\; & w_j := w_j -  \\alpha \\frac{\\partial J(\\mathbf{w},b)}{\\partial w_j} \\tag{1}  \\; & \\text{for j := 0..n-1}\\newline & \\rbrace\\end{align*}$$\n",
    "\n",
    "where, parameters $b$, $w_j$ are all updated simultaniously\n",
    "\n",
    "In this step, you are required to complete the `compute_gradient_logistic_regression` function to compute $\\frac{\\partial J(\\mathbf{w},b)}{\\partial w}$, $\\frac{\\partial J(\\mathbf{w},b)}{\\partial b}$ from equations (2) and (3) below.\n",
    "\n",
    "$$\n",
    "\\frac{\\partial J(\\mathbf{w},b)}{\\partial b}  = \\frac{1}{m} \\sum\\limits_{i = 0}^{m-1} (f_{\\mathbf{w},b}(\\mathbf{x}^{(i)}) - \\mathbf{y}^{(i)}) \\tag{2}\n",
    "$$\n",
    "$$\n",
    "\\frac{\\partial J(\\mathbf{w},b)}{\\partial w_j}  = \\frac{1}{m} \\sum\\limits_{i = 0}^{m-1} (f_{\\mathbf{w},b}(\\mathbf{x}^{(i)}) - \\mathbf{y}^{(i)})x_{j}^{(i)} \\tag{3}\n",
    "$$\n",
    "* m is the number of training examples in the dataset\n",
    "\n",
    "    \n",
    "*  $f_{\\mathbf{w},b}(x^{(i)})$ is the model's prediction, while $y^{(i)}$ is the actual label\n",
    "\n",
    "You can use the sigmoid function that you implemented above."
   ]
  },
  {
   "cell_type": "code",
   "execution_count": 45,
   "metadata": {
    "id": "PWxbewKkbIB8"
   },
   "outputs": [],
   "source": [
    "## CODE REQUIRED ##\n",
    "\n",
    "def compute_gradient_logistic_regression(X, y, w, b):\n",
    "    \"\"\"\n",
    "    Computes the gradient values of the loss function\n",
    "    Args:\n",
    "       X: Input data of the shape (# of training samples, # of input features)\n",
    "       y: Target variable of the shape (# of training sample,)\n",
    "       w: Parameters of the logistic regression model (excluding the bias) of the shape (1, number of features)\n",
    "       b: Bias parameter of the logistic regression model of the shape (1,1) or a scaler\n",
    "    Returns:\n",
    "       dL_dw : The gradient of the cost w.r.t. the parameters w with shape same as w\n",
    "       dL_db : The gradient of the cost w.r.t. the parameter b with shape same as b\n",
    "    \"\"\"\n",
    "    m, n = X.shape\n",
    "    dj_dw = np.zeros(w.shape)\n",
    "    dj_db = 0\n",
    "\n",
    "    ### START CODE HERE ###\n",
    "    y_matrix = y.reshape((m,1))\n",
    "    z = np.dot(X, w.T) + b\n",
    "    f_x = sigmoid(z)\n",
    "    error = f_x - y_matrix\n",
    "    dj_db = np.sum(error)\n",
    "    dj_dw = np.dot(error.T, X)\n",
    "    dj_db /= m \n",
    "    dj_dw /= m \n",
    "    ### END CODE HERE ###\n",
    "\n",
    "    return dj_db, dj_dw"
   ]
  },
  {
   "cell_type": "markdown",
   "metadata": {
    "id": "6ZMYX655MRFX"
   },
   "source": [
    "### 2.5. Training the model using Batch Gradient Descent\n",
    "\n",
    "Please complete the batch gradient descent algorithm for logistic regression to train and learn the parameters of the logistic regression model. You have to use ```loss_function``` and ```compute_gradient_logistic regression``` functions that you have implemented earlier in this assignment.\n",
    "\n",
    "In this ```batch_gradient_descent_logistic_regression``` function, you have to compute the gradient for the training samples and update the parameters $w$ and $b$ in every iteration:\n",
    "\n",
    "+ $w \\leftarrow w - \\alpha \\frac{\\partial L}{\\partial w}$\n",
    "\n",
    "+ $b \\leftarrow b - \\alpha \\frac{\\partial L}{\\partial b}$\n",
    "\n",
    "This function takes   ```X```    (input features),  ```y```  (class labels),  ```w_in```  (intial values of parameters(excluding bias)),  ```b_in```  (initial value for bias),  ```num_iters```   (number of iterations of training) as input.\n",
    "\n",
    "Additionally, you have compute the loss function values in every iteration and store it in the list variable ```loss_hist``` and print the loss value after every 100 iterations during the training process."
   ]
  },
  {
   "cell_type": "code",
   "execution_count": 46,
   "metadata": {
    "id": "JOi07RVNbL_7"
   },
   "outputs": [],
   "source": [
    "## CODE REQUIRED ##\n",
    "\n",
    "def batch_gradient_descent_logistic_regression(X, y, w_in, b_in, alpha, num_iters):\n",
    "    \"\"\"\n",
    "    Batch gradient descent to learn the parameters (w and b) of the linear regression model and to print loss values\n",
    "    every 100 iterations\n",
    "\n",
    "    Args:\n",
    "        X: Input data of the shape (# of training samples, # of input features)\n",
    "        y: Target variable of the shape (# of training sample,)\n",
    "        w_in: Initial parameters of the logistic regression model (excluding the bias) of the shape (1, number of features)\n",
    "        b_in: Initial bias parameter (scalar) of the logistic regression model\n",
    "        alpha: Learning rate\n",
    "        num_iters: number of iterations\n",
    "    Returns\n",
    "        w: Updated values of parameters of the model after training\n",
    "        b: Updated bias of the model after training\n",
    "        loss_hist: List of loss values for every iteration\n",
    "    \"\"\"\n",
    "\n",
    "    # number of training examples\n",
    "    m = len(X)\n",
    "\n",
    "    # list to store the loss values for every iterations\n",
    "    loss_hist = []\n",
    "\n",
    "    ### START CODE HERE ###\n",
    "    for i in range(num_iters):\n",
    "        dj_db, dj_dw = compute_gradient_logistic_regression(X, y, w_in, b_in)\n",
    "        w_in = w_in - alpha * dj_dw\n",
    "        b_in = b_in - alpha * dj_db\n",
    "        \n",
    "        loss = loss_function(X, y, w_in, b_in)\n",
    "        loss_hist.append(loss)\n",
    "        if i % 1000 == 0:\n",
    "            print(f\"Loss after iteration {i} : {loss}\")\n",
    "    ### END CODE HERE ###\n",
    "\n",
    "    return w_in, b_in, loss_hist"
   ]
  },
  {
   "cell_type": "markdown",
   "metadata": {
    "id": "3yeLdzT9-5Wc"
   },
   "source": [
    "Now you have to intialize the model parameters ($w$ and $b$) and learning rate (```alpha```). The learning rate ```alpha``` has to be randomly initialized between 0.01 and 0.09. To randomly initialize the learning rate, you have to first set the last two digits of your roll number as the random seed using ```random.seed()``` function."
   ]
  },
  {
   "cell_type": "code",
   "execution_count": 47,
   "metadata": {
    "id": "MIBltyJh-Tjk"
   },
   "outputs": [],
   "source": [
    "## CODE REQUIRED ##\n",
    "\n",
    "## set the last two digits of your roll number as the random seed\n",
    "random_seed = None\n",
    "### START CODE HERE ###\n",
    "random_seed = 48\n",
    "### END CODE HERE ###\n",
    "np.random.seed(random_seed)\n",
    "\n",
    "def initialize_parameters():\n",
    "    \"\"\"\n",
    "    This function randomly initializes the model parameters (w and b) and the hyperparameter alpha\n",
    "    Initial w and b should be randomly sampled from a normal distribution with mean 0\n",
    "    alpha should be randomly initialized between 0.01 and 0.09 by using last two digits of your roll number as the random seed\n",
    "    Args:\n",
    "        None\n",
    "    Returns:\n",
    "        initial_w: Initial parameters of the linear regression model (excluding the bias) of the shape (1, number of features)\n",
    "        initial_b: Initial bias parameter (scalar) of the linear regression model\n",
    "        alpha: Learning rate\n",
    "    \"\"\"\n",
    "\n",
    "    initial_w = None\n",
    "    initial_b = None\n",
    "    alpha = None\n",
    "\n",
    "    ### START CODE HERE ###\n",
    "    initial_w = np.random.randn(1, X_train.shape[1])\n",
    "    initial_b = np.random.randn()\n",
    "    alpha = np.random.uniform(0.01, 0.09)\n",
    "    ### END CODE HERE ###\n",
    "\n",
    "    return initial_w,initial_b,alpha"
   ]
  },
  {
   "cell_type": "markdown",
   "metadata": {
    "id": "KT5CbQ8dZS_J"
   },
   "source": [
    "The following cell runs the batch gradient algorithm for\n",
    "```num_iterations=1000``` to train the logistic regression model. You can change the number of iterations to check any improvements in the performance"
   ]
  },
  {
   "cell_type": "code",
   "execution_count": 48,
   "metadata": {
    "id": "KFTZi7pkbOdp"
   },
   "outputs": [
    {
     "name": "stdout",
     "output_type": "stream",
     "text": [
      "Loss after iteration 0 : 0.8947697725055287\n",
      "Loss after iteration 1000 : 0.4616572602136488\n",
      "Loss after iteration 2000 : 0.3503400097498388\n",
      "Loss after iteration 3000 : 0.2995456643741877\n",
      "Loss after iteration 4000 : 0.2707715573609091\n",
      "Loss after iteration 5000 : 0.2523088962759446\n",
      "Loss after iteration 6000 : 0.2394854525925891\n",
      "Loss after iteration 7000 : 0.23008028287881008\n",
      "Loss after iteration 8000 : 0.22290358107077263\n",
      "Loss after iteration 9000 : 0.21726038889233018\n",
      "Loss after iteration 10000 : 0.21271739066504197\n",
      "Loss after iteration 11000 : 0.20899026107789895\n",
      "Loss after iteration 12000 : 0.20588463551439865\n",
      "Loss after iteration 13000 : 0.2032631071046935\n",
      "Loss after iteration 14000 : 0.2010257730836069\n",
      "Loss after iteration 15000 : 0.19909825235317286\n",
      "Loss after iteration 16000 : 0.1974240256311774\n",
      "Loss after iteration 17000 : 0.19595938065439408\n",
      "Loss after iteration 18000 : 0.19466998338479974\n",
      "Loss after iteration 19000 : 0.19352849552628276\n",
      "optimized parameter values w: [[ 3.82454925  7.43788332  9.43001394 -2.5060325 ]]\n",
      "optimized parameter value b: -8.975813453327957\n"
     ]
    }
   ],
   "source": [
    "# initialize the parameters (w an b) randomly\n",
    "initial_w, initial_b, alpha = initialize_parameters()\n",
    "num_iterations = 20000\n",
    "\n",
    "w, b, loss_hist = batch_gradient_descent_logistic_regression(X_train ,y_train, initial_w, initial_b, alpha, num_iterations)\n",
    "print(\"optimized parameter values w:\", w)\n",
    "print(\"optimized parameter value b:\", b)"
   ]
  },
  {
   "cell_type": "markdown",
   "metadata": {
    "id": "pYP0-YUyY50x"
   },
   "source": [
    "### 2.6. Final Train and Test Accuracy\n",
    "After the logistic regression model is trained, we will predict the class labels for the training set and test set and we will compute the accuracy.\n",
    "\n",
    "Please complete the `predict` function to produce `1` or `0` predictions given a dataset and a learned parameter vector $w$ and $b$.\n",
    "- First you need to compute the prediction from the model $f(x^{(i)}) = g(w \\cdot x^{(i)})$ for every example\n",
    "\n",
    "- We interpret the output of the model ($f(x^{(i)})$) as the probability that $y^{(i)}=1$ given $x^{(i)}$ and parameterized by $w$.\n",
    "- Therefore, to get a final prediction ($y^{(i)}=0$ or $y^{(i)}=1$) from the logistic regression model, you can use the following heuristic -\n",
    "\n",
    "  if $f(x^{(i)}) >= 0.5$, predict $y^{(i)}=1$\n",
    "  \n",
    "  if $f(x^{(i)}) < 0.5$, predict $y^{(i)}=0$"
   ]
  },
  {
   "cell_type": "code",
   "execution_count": 49,
   "metadata": {
    "id": "mZDUV2iwbQ_R"
   },
   "outputs": [],
   "source": [
    "def predict(X, w, b):\n",
    "      \"\"\"\n",
    "      Predict whether the label is 0 or 1 using learned logistic regression parameters (w,b)\n",
    "\n",
    "      Args:\n",
    "        X: Input data of shape (number of sample, number of features)\n",
    "        w: Parameters of the logistic regression model (excluding the bias) of the shape (1, number of features)\n",
    "        b: Bias parameter of the logistic regression model\n",
    "\n",
    "      Returns:\n",
    "        p: Predictions for X using a threshold at 0.5\n",
    "      \"\"\"\n",
    "      m, n = X.shape\n",
    "      p = np.zeros(m)\n",
    "      ### START CODE HERE###\n",
    "      z = np.dot(X, w.T) + b\n",
    "      A = 1 / (1 + np.exp(-z))\n",
    "      p = np.where(A >= 0.5, 1, 0)\n",
    "      ### END CODE HERE ###\n",
    "      return p"
   ]
  },
  {
   "cell_type": "markdown",
   "metadata": {
    "id": "zsrATkIy2KVy"
   },
   "source": [
    "Now let's use this to compute the accuracy on the training and test datasets"
   ]
  },
  {
   "cell_type": "code",
   "execution_count": 50,
   "metadata": {
    "id": "UMmh6WdFbU9Y"
   },
   "outputs": [
    {
     "name": "stdout",
     "output_type": "stream",
     "text": [
      "Train Accuracy: 51.027504\n",
      "Test Accuracy: 51.426819\n"
     ]
    }
   ],
   "source": [
    "p_train = predict(X_train, w,b)\n",
    "print('Train Accuracy: %f'%(np.mean(p_train == y_train) * 100))\n",
    "p_test = predict(X_test, w,b)\n",
    "print('Test Accuracy: %f'%(np.mean(p_test == y_test) * 100))"
   ]
  },
  {
   "cell_type": "markdown",
   "metadata": {
    "id": "B0VqjFy9ZK7D"
   },
   "source": [
    "Now, we plot the loss function values for every iteration."
   ]
  },
  {
   "cell_type": "code",
   "execution_count": 51,
   "metadata": {
    "id": "fkmP3XHMTW74"
   },
   "outputs": [
    {
     "data": {
      "image/png": "[encoded data removed]",
      "text/plain": [
       "<Figure size 640x480 with 1 Axes>"
      ]
     },
     "metadata": {},
     "output_type": "display_data"
    }
   ],
   "source": [
    "# PLotting the loss values for every training iterations\n",
    "\n",
    "loss_plot = [loss_hist[i] for i in range(len(loss_hist))]\n",
    "plt.xlabel(\"Iterations\")\n",
    "plt.ylabel(\"Loss function\")\n",
    "plt.plot(loss_plot)\n",
    "plt.show()"
   ]
  },
  {
   "cell_type": "markdown",
   "metadata": {
    "id": "JgKAU9RBEUlL"
   },
   "source": [
    "### 2.7 Experimenting with different values of the Hyperparemeters\n",
    "\n",
    "Previously, we randomly sampled the learning rate and the number of features to train the model. Now, you have to manually choose the number of features and the learning rate. Then, you have to train the model again on the manually choosen hyperparameters (number of features and learning rate). In the next cell, you have to manually choose the hyperparameters and write the code to train the model.\n",
    "\n",
    "After the model is trained, you have to compare the performance of the model with random chosen hyperparameters and the model **with** manually chosen hyperparameters."
   ]
  },
  {
   "cell_type": "code",
   "execution_count": 52,
   "metadata": {
    "id": "xMcc3cuvIbD_"
   },
   "outputs": [
    {
     "name": "stdout",
     "output_type": "stream",
     "text": [
      "Shape of X_train:  (2857, 3) Shape of y_train:  (2857,)\n",
      "Shape of X_test:  (953, 3) Shape of y_test:  (953,)\n",
      "Loss after iteration 0 : 0.909518714444351\n",
      "Loss after iteration 1000 : 0.893396147981278\n",
      "Loss after iteration 2000 : 0.8780477703650795\n",
      "Loss after iteration 3000 : 0.8634574382173859\n",
      "Loss after iteration 4000 : 0.849606980697666\n",
      "Loss after iteration 5000 : 0.8364764077122029\n",
      "Loss after iteration 6000 : 0.8240441323364666\n",
      "Loss after iteration 7000 : 0.8122872023627344\n",
      "Loss after iteration 8000 : 0.8011815359787704\n",
      "Loss after iteration 9000 : 0.790702156847186\n",
      "Loss after iteration 10000 : 0.7808234242610774\n",
      "Loss after iteration 11000 : 0.7715192545670074\n",
      "Loss after iteration 12000 : 0.7627633306367361\n",
      "Loss after iteration 13000 : 0.7545292967999219\n",
      "Loss after iteration 14000 : 0.7467909372894936\n",
      "Loss after iteration 15000 : 0.7395223368720764\n",
      "Loss after iteration 16000 : 0.732698022915257\n",
      "Loss after iteration 17000 : 0.7262930886649736\n",
      "Loss after iteration 18000 : 0.7202832979588338\n",
      "Loss after iteration 19000 : 0.7146451719788972\n",
      "Loss after iteration 20000 : 0.709356058949088\n",
      "Loss after iteration 21000 : 0.7043941879103651\n",
      "Loss after iteration 22000 : 0.6997387078662319\n",
      "Loss after iteration 23000 : 0.6953697136892748\n",
      "Loss after iteration 24000 : 0.6912682602243718\n",
      "Loss after iteration 25000 : 0.6874163660247707\n",
      "Loss after iteration 26000 : 0.6837970081220318\n",
      "Loss after iteration 27000 : 0.6803941091680213\n",
      "Loss after iteration 28000 : 0.677192518204211\n",
      "Loss after iteration 29000 : 0.6741779862169778\n",
      "Loss after iteration 30000 : 0.6713371375330356\n",
      "Loss after iteration 31000 : 0.6686574380011097\n",
      "Loss after iteration 32000 : 0.6661271607981891\n",
      "Loss after iteration 33000 : 0.663735350593985\n",
      "Loss after iteration 34000 : 0.6614717867076103\n",
      "Loss after iteration 35000 : 0.6593269457974942\n",
      "Loss after iteration 36000 : 0.6572919645399575\n",
      "Loss after iteration 37000 : 0.655358602674238\n",
      "Loss after iteration 38000 : 0.6535192067221473\n",
      "Loss after iteration 39000 : 0.6517666746288732\n",
      "Loss after iteration 40000 : 0.6500944215173492\n",
      "Loss after iteration 41000 : 0.64849634670167\n",
      "Loss after iteration 42000 : 0.6469668020647086\n",
      "Loss after iteration 43000 : 0.6455005618707906\n",
      "Loss after iteration 44000 : 0.6440927940554331\n",
      "Loss after iteration 45000 : 0.6427390330101438\n",
      "Loss after iteration 46000 : 0.6414351538605624\n",
      "Loss after iteration 47000 : 0.6401773482202521\n",
      "Loss after iteration 48000 : 0.6389621013897395\n",
      "Loss after iteration 49000 : 0.637786170960472\n",
      "Loss after iteration 50000 : 0.6366465667758412\n",
      "Loss after iteration 51000 : 0.6355405321959124\n",
      "Loss after iteration 52000 : 0.6344655266086814\n",
      "Loss after iteration 53000 : 0.6334192091282858\n",
      "Loss after iteration 54000 : 0.6323994234193544\n",
      "Loss after iteration 55000 : 0.6314041835863885\n",
      "Loss after iteration 56000 : 0.6304316610675194\n",
      "Loss after iteration 57000 : 0.6294801724730805\n",
      "Loss after iteration 58000 : 0.6285481683109342\n",
      "Loss after iteration 59000 : 0.6276342225424132\n",
      "Loss after iteration 60000 : 0.6267370229148579\n",
      "Loss after iteration 61000 : 0.6258553620190807\n",
      "Loss after iteration 62000 : 0.6249881290225154\n",
      "Loss after iteration 63000 : 0.6241343020313315\n",
      "Loss after iteration 64000 : 0.6232929410373103\n",
      "Loss after iteration 65000 : 0.6224631814078014\n",
      "Loss after iteration 66000 : 0.6216442278795425\n",
      "Loss after iteration 67000 : 0.6208353490195466\n",
      "Loss after iteration 68000 : 0.6200358721185874\n",
      "Loss after iteration 69000 : 0.6192451784850623\n",
      "Loss after iteration 70000 : 0.6184626991091603\n",
      "Loss after iteration 71000 : 0.6176879106693098\n",
      "Loss after iteration 72000 : 0.616920331854824\n",
      "Loss after iteration 73000 : 0.616159519980501\n",
      "Loss after iteration 74000 : 0.6154050678706607\n",
      "Loss after iteration 75000 : 0.6146566009917434\n",
      "Loss after iteration 76000 : 0.6139137748141041\n",
      "Loss after iteration 77000 : 0.6131762723850924\n",
      "Loss after iteration 78000 : 0.6124438020968207\n",
      "Loss after iteration 79000 : 0.6117160956332921\n",
      "Loss after iteration 80000 : 0.6109929060827061\n",
      "Loss after iteration 81000 : 0.6102740062018582\n",
      "Loss after iteration 82000 : 0.6095591868205367\n",
      "Loss after iteration 83000 : 0.6088482553747706\n",
      "Loss after iteration 84000 : 0.6081410345586418\n",
      "Loss after iteration 85000 : 0.607437361085167\n",
      "Loss after iteration 86000 : 0.6067370845475186\n",
      "Loss after iteration 87000 : 0.6060400663725192\n",
      "Loss after iteration 88000 : 0.6053461788589964\n",
      "Loss after iteration 89000 : 0.6046553042941617\n",
      "Loss after iteration 90000 : 0.6039673341417198\n",
      "Loss after iteration 91000 : 0.6032821682959266\n",
      "Loss after iteration 92000 : 0.6025997143962584\n",
      "Loss after iteration 93000 : 0.601919887197793\n",
      "Loss after iteration 94000 : 0.6012426079927911\n",
      "Loss after iteration 95000 : 0.6005678040793342\n",
      "Loss after iteration 96000 : 0.5998954082731972\n",
      "Loss after iteration 97000 : 0.5992253584594514\n",
      "Loss after iteration 98000 : 0.5985575971805728\n",
      "Loss after iteration 99000 : 0.5978920712580885\n",
      "Updated w_manual [[-1.22474117  0.12306389  2.08125083]]\n",
      "Updated b_manual -0.5637510112509946\n",
      "Train Accuracy manual: 51.525688\n",
      "Test Accuracy manual: 51.882001\n"
     ]
    },
    {
     "data": {
      "image/png": "[encoded data removed]",
      "text/plain": [
       "<Figure size 640x480 with 1 Axes>"
      ]
     },
     "metadata": {},
     "output_type": "display_data"
    },
    {
     "name": "stdout",
     "output_type": "stream",
     "text": [
      "Comparision Statement:Even I took all the feautures accuracy was'nt changed considerably\n"
     ]
    }
   ],
   "source": [
    "## CODE REQUIRED ##\n",
    "\n",
    "\"\"\"\n",
    "Manually choose the hyperparameters (learning rate and number of features) and train the model.\n",
    "Then compare the performance with random chosen hyperparameters and manually chosen hyperparameters.\n",
    "\"\"\"\n",
    "\n",
    "### START CODE HERE ###\n",
    "r = 3\n",
    "alpha_manual = 0.0001\n",
    "num_iters = 100000\n",
    "\n",
    "filepath = './Rice_Classification.csv'\n",
    "X,y = load_data(filepath)\n",
    "X_new = X[:, :r]\n",
    "X_new = min_max_scaler(X_new)\n",
    "X_train_manual, X_test_manual, y_train_manual, y_test_manual = train_test_split(X_new, y, test_size=0.25, random_state=42)\n",
    "print(\"Shape of X_train: \",X_train_manual.shape, \"Shape of y_train: \",y_train_manual.shape)\n",
    "print(\"Shape of X_test: \",X_test_manual.shape, \"Shape of y_test: \",y_test_manual.shape)\n",
    "initial_w = np.random.randn(1, r)\n",
    "initial_b = np.random.randn()\n",
    "w_manual,b_manual,loss_hist_manual = batch_gradient_descent_logistic_regression(X_train_manual,y_train_manual,initial_w,initial_b,alpha_manual,num_iters)\n",
    "print(\"Updated w_manual\",w_manual)\n",
    "print(\"Updated b_manual\",b_manual)\n",
    "p_train_manual = predict(X_train_manual, w_manual,b_manual)\n",
    "print('Train Accuracy manual: %f'%(np.mean(p_train_manual == y_train_manual) * 100))\n",
    "p_test_manual = predict(X_test_manual, w_manual,b_manual)\n",
    "print('Test Accuracy manual: %f'%(np.mean(p_test_manual == y_test_manual) * 100))\n",
    "loss_plot_manual = [loss_hist_manual[i] for i in range(len(loss_hist_manual))]\n",
    "plt.xlabel(\"Iterations\")\n",
    "plt.ylabel(\"Loss function\")\n",
    "plt.plot(loss_plot_manual)\n",
    "plt.show()\n",
    "print(\"Comparision Statement:Even I took all the feautures accuracy was'nt changed considerably\")\n",
    "### END CODE HERE ###"
   ]
  }
 ],
 "metadata": {
  "colab": {
   "provenance": []
  },
  "kernelspec": {
   "display_name": "Python 3 (ipykernel)",
   "language": "python",
   "name": "python3"
  },
  "language_info": {
   "codemirror_mode": {
    "name": "ipython",
    "version": 3
   },
   "file_extension": ".py",
   "mimetype": "text/x-python",
   "name": "python",
   "nbconvert_exporter": "python",
   "pygments_lexer": "ipython3",
   "version": "3.10.12"
  }
 },
 "nbformat": 4,
 "nbformat_minor": 4
}
